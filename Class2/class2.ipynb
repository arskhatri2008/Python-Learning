{
 "cells": [
  {
   "cell_type": "markdown",
   "metadata": {},
   "source": [
    "# String data type in Python."
   ]
  },
  {
   "cell_type": "code",
   "execution_count": 2,
   "metadata": {},
   "outputs": [
    {
     "name": "stdout",
     "output_type": "stream",
     "text": [
      "Arsalan Ahmed\n"
     ]
    }
   ],
   "source": [
    "# boundries\n",
    "# 'string text' , \"string text\", ''string text'' , \"\"\"sting text\"\" , '''string text''' , \"\"\"sting text\"\"\"\n",
    "name : str = \"Arsalan Ahmed\"\n",
    "print(name)"
   ]
  },
  {
   "cell_type": "code",
   "execution_count": 3,
   "metadata": {},
   "outputs": [
    {
     "name": "stdout",
     "output_type": "stream",
     "text": [
      "Arsalan Ahmed\n"
     ]
    }
   ],
   "source": [
    "# boundries\n",
    "# 'string text' , \"string text\", ''string text'' , \"\"\"sting text\"\" , '''string text''' , \"\"\"sting text\"\"\"\n",
    "name : str = 'Arsalan Ahmed'\n",
    "print(name)"
   ]
  },
  {
   "cell_type": "code",
   "execution_count": 8,
   "metadata": {},
   "outputs": [
    {
     "name": "stdout",
     "output_type": "stream",
     "text": [
      "Arsalan Ahmed\n"
     ]
    }
   ],
   "source": [
    "# boundries\n",
    "# 'string text' , \"string text\", '''string text''' , \"\"\"sting text\"\"\"\n",
    "name : str = '''Arsalan Ahmed'''\n",
    "print(name)"
   ]
  }
 ],
 "metadata": {
  "kernelspec": {
   "display_name": "python12",
   "language": "python",
   "name": "python3"
  },
  "language_info": {
   "codemirror_mode": {
    "name": "ipython",
    "version": 3
   },
   "file_extension": ".py",
   "mimetype": "text/x-python",
   "name": "python",
   "nbconvert_exporter": "python",
   "pygments_lexer": "ipython3",
   "version": "3.12.0"
  }
 },
 "nbformat": 4,
 "nbformat_minor": 2
}
