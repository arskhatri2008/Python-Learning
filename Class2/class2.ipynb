{
 "cells": [
  {
   "cell_type": "markdown",
   "metadata": {},
   "source": [
    "# String data type in Python."
   ]
  },
  {
   "cell_type": "code",
   "execution_count": 2,
   "metadata": {},
   "outputs": [
    {
     "name": "stdout",
     "output_type": "stream",
     "text": [
      "Arsalan Ahmed\n"
     ]
    }
   ],
   "source": [
    "# boundries\n",
    "# 'string text' , \"string text\", ''string text'' , \"\"\"sting text\"\" , '''string text''' , \"\"\"sting text\"\"\"\n",
    "name : str = \"Arsalan Ahmed\"\n",
    "print(name)"
   ]
  },
  {
   "cell_type": "code",
   "execution_count": 3,
   "metadata": {},
   "outputs": [
    {
     "name": "stdout",
     "output_type": "stream",
     "text": [
      "Arsalan Ahmed\n"
     ]
    }
   ],
   "source": [
    "# boundries\n",
    "# 'string text' , \"string text\", ''string text'' , \"\"\"sting text\"\" , '''string text''' , \"\"\"sting text\"\"\"\n",
    "name : str = 'Arsalan Ahmed'\n",
    "print(name)"
   ]
  },
  {
   "cell_type": "code",
   "execution_count": 8,
   "metadata": {},
   "outputs": [
    {
     "name": "stdout",
     "output_type": "stream",
     "text": [
      "Arsalan Ahmed\n"
     ]
    }
   ],
   "source": [
    "# boundries\n",
    "# 'string text' , \"string text\", '''string text''' , \"\"\"sting text\"\"\"\n",
    "name : str = '''Arsalan Ahmed'''\n",
    "print(name)"
   ]
  },
  {
   "cell_type": "code",
   "execution_count": 1,
   "metadata": {},
   "outputs": [
    {
     "name": "stdout",
     "output_type": "stream",
     "text": [
      "My name is \"Arslan Ahmed\" my father's name is \"Muhammad Saleem\"\n"
     ]
    }
   ],
   "source": [
    "# convert any special character into simple character, place \\ before character\n",
    "message : str = 'My name is \\\"Arslan Ahmed\\\" my father\\'s name is \\\"Muhammad Saleem\\\"'\n",
    "print(message)"
   ]
  },
  {
   "cell_type": "markdown",
   "metadata": {},
   "source": [
    "# \"\\n\" for new line\n",
    "# \"\\\\\" for continue code in next line"
   ]
  },
  {
   "cell_type": "code",
   "execution_count": 4,
   "metadata": {},
   "outputs": [
    {
     "name": "stdout",
     "output_type": "stream",
     "text": [
      "PIAIC Student Card\n",
      "Student Name: Arsalan Ahmed\n",
      "Age: 30\n",
      "Education: BSCS\n"
     ]
    }
   ],
   "source": [
    "# for line change \\n\n",
    "# for continue code but in different line use \"\\\"\n",
    "name : str = \"Arsalan Ahmed\"\n",
    "fname : str = \"Muhammad Saleem\"\n",
    "education : str = \"BSCS\"\n",
    "age : int = 30\n",
    "card : str = \"PIAIC Student Card\\nStudent Name: \" + name + \\\n",
    "      \"\\nAge: \" + str(age) + \\\n",
    "      \"\\nEducation: \" + education\n",
    "print(card)"
   ]
  },
  {
   "cell_type": "markdown",
   "metadata": {},
   "source": [
    "# Define multiline string double triple quotation \"\"\" \"\"\" & single triple quotation ''' '''"
   ]
  },
  {
   "cell_type": "code",
   "execution_count": 6,
   "metadata": {},
   "outputs": [
    {
     "name": "stdout",
     "output_type": "stream",
     "text": [
      "\n",
      "PIAIC Student Card\n",
      "Student Name: ....\n",
      "Father's Name: ....\n",
      "Age: ....\n",
      "Education: ....\n",
      "\n"
     ]
    }
   ],
   "source": [
    "name : str = \"Arsalan Ahmed\"\n",
    "fname : str = \"Muhammad Saleem\"\n",
    "education: str = \"BSCS\"\n",
    "age : int = 30\n",
    "\n",
    "card : str = \"\"\"\n",
    "PIAIC Student Card\n",
    "Student Name: ....\n",
    "Father's Name: ....\n",
    "Age: ....\n",
    "Education: ....\n",
    "\"\"\"\n",
    "print(card)"
   ]
  },
  {
   "cell_type": "markdown",
   "metadata": {},
   "source": [
    "# f-string python"
   ]
  },
  {
   "cell_type": "code",
   "execution_count": 7,
   "metadata": {},
   "outputs": [
    {
     "name": "stdout",
     "output_type": "stream",
     "text": [
      "\n",
      "PIAIC Student Card\n",
      "Student Name: Arsalan Ahmed\n",
      "Father's Name: Muhammad Saleem\n",
      "Age: 30\n",
      "Education: BSCS\n",
      "\n"
     ]
    }
   ],
   "source": [
    "# f-string allows insertion of variables using {}\n",
    "\n",
    "name : str = \"Arsalan Ahmed\"\n",
    "fname : str = \"Muhammad Saleem\"\n",
    "education: str = \"BSCS\"\n",
    "age : int = 30\n",
    "\n",
    "card : str = f\"\"\"\n",
    "PIAIC Student Card\n",
    "Student Name: {name}\n",
    "Father's Name: {fname}\n",
    "Age: {age}\n",
    "Education: {education}\n",
    "\"\"\"\n",
    "print(card)"
   ]
  }
 ],
 "metadata": {
  "kernelspec": {
   "display_name": "python12",
   "language": "python",
   "name": "python3"
  },
  "language_info": {
   "codemirror_mode": {
    "name": "ipython",
    "version": 3
   },
   "file_extension": ".py",
   "mimetype": "text/x-python",
   "name": "python",
   "nbconvert_exporter": "python",
   "pygments_lexer": "ipython3",
   "version": "3.12.0"
  }
 },
 "nbformat": 4,
 "nbformat_minor": 2
}
