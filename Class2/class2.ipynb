{
 "cells": [
  {
   "cell_type": "markdown",
   "metadata": {},
   "source": [
    "# String data type in Python."
   ]
  },
  {
   "cell_type": "code",
   "execution_count": 2,
   "metadata": {},
   "outputs": [
    {
     "name": "stdout",
     "output_type": "stream",
     "text": [
      "Arsalan Ahmed\n"
     ]
    }
   ],
   "source": [
    "# boundries\n",
    "# 'string text' , \"string text\", ''string text'' , \"\"\"sting text\"\" , '''string text''' , \"\"\"sting text\"\"\"\n",
    "name : str = \"Arsalan Ahmed\"\n",
    "print(name)"
   ]
  },
  {
   "cell_type": "code",
   "execution_count": 3,
   "metadata": {},
   "outputs": [
    {
     "name": "stdout",
     "output_type": "stream",
     "text": [
      "Arsalan Ahmed\n"
     ]
    }
   ],
   "source": [
    "# boundries\n",
    "# 'string text' , \"string text\", ''string text'' , \"\"\"sting text\"\" , '''string text''' , \"\"\"sting text\"\"\"\n",
    "name : str = 'Arsalan Ahmed'\n",
    "print(name)"
   ]
  },
  {
   "cell_type": "code",
   "execution_count": 8,
   "metadata": {},
   "outputs": [
    {
     "name": "stdout",
     "output_type": "stream",
     "text": [
      "Arsalan Ahmed\n"
     ]
    }
   ],
   "source": [
    "# boundries\n",
    "# 'string text' , \"string text\", '''string text''' , \"\"\"sting text\"\"\"\n",
    "name : str = '''Arsalan Ahmed'''\n",
    "print(name)"
   ]
  },
  {
   "cell_type": "code",
   "execution_count": 1,
   "metadata": {},
   "outputs": [
    {
     "name": "stdout",
     "output_type": "stream",
     "text": [
      "My name is \"Arslan Ahmed\" my father's name is \"Muhammad Saleem\"\n"
     ]
    }
   ],
   "source": [
    "# convert any special character into simple character, place \\ before character\n",
    "message : str = 'My name is \\\"Arslan Ahmed\\\" my father\\'s name is \\\"Muhammad Saleem\\\"'\n",
    "print(message)"
   ]
  },
  {
   "cell_type": "code",
   "execution_count": 4,
   "metadata": {},
   "outputs": [
    {
     "name": "stdout",
     "output_type": "stream",
     "text": [
      "PIAIC Student Card\n",
      "Student Name: Arsalan Ahmed\n",
      "Age: 30\n"
     ]
    }
   ],
   "source": [
    "# for line change \\n\n",
    "name : str = \"Arsalan Ahmed\"\n",
    "fname : str = \"Muhammad Saleem\"\n",
    "education : str = \"BSCS\"\n",
    "age : str = \"30\"\n",
    "card : str = \"PIAIC Student Card\\nStudent Name: \" + name + \"\\nAge: \" + age\n",
    "print(card)"
   ]
  }
 ],
 "metadata": {
  "kernelspec": {
   "display_name": "python12",
   "language": "python",
   "name": "python3"
  },
  "language_info": {
   "codemirror_mode": {
    "name": "ipython",
    "version": 3
   },
   "file_extension": ".py",
   "mimetype": "text/x-python",
   "name": "python",
   "nbconvert_exporter": "python",
   "pygments_lexer": "ipython3",
   "version": "3.12.0"
  }
 },
 "nbformat": 4,
 "nbformat_minor": 2
}
